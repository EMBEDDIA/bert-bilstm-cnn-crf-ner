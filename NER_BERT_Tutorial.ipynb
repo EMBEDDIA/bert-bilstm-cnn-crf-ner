{
 "cells": [
  {
   "cell_type": "markdown",
   "metadata": {},
   "source": [
    "# NER BERT Tutorial\n",
    "\n",
    "This IPython Notebook contains an example how to use BERT embeddings to perform Named Entity Recognition. Note that as input we use a tokenized document. However, this step can easily removed if a tokenizer is available.\n",
    "\n",
    "Details of the model can be found in:\n",
    "\n",
    "Moreno, José G., et al. \"TLR at BSNLP2019: A Multilingual Named Entity Recognition System.\" Proceedings of the 7th Workshop on Balto-Slavic Natural Language Processing. 2019.\n",
    "\n",
    "This code is based on https://github.com/UKPLab/elmo-bilstm-cnn-crf\n",
    "\n",
    "# Basics"
   ]
  },
  {
   "cell_type": "code",
   "execution_count": 1,
   "metadata": {},
   "outputs": [
    {
     "name": "stderr",
     "output_type": "stream",
     "text": [
      "Using TensorFlow backend.\n",
      "/home/jmoreno/anaconda3/envs/zagrebdemo/lib/python3.6/site-packages/tensorflow/python/framework/dtypes.py:519: FutureWarning: Passing (type, 1) or '1type' as a synonym of type is deprecated; in a future version of numpy, it will be understood as (type, (1,)) / '(1,)type'.\n",
      "  _np_qint8 = np.dtype([(\"qint8\", np.int8, 1)])\n",
      "/home/jmoreno/anaconda3/envs/zagrebdemo/lib/python3.6/site-packages/tensorflow/python/framework/dtypes.py:520: FutureWarning: Passing (type, 1) or '1type' as a synonym of type is deprecated; in a future version of numpy, it will be understood as (type, (1,)) / '(1,)type'.\n",
      "  _np_quint8 = np.dtype([(\"quint8\", np.uint8, 1)])\n",
      "/home/jmoreno/anaconda3/envs/zagrebdemo/lib/python3.6/site-packages/tensorflow/python/framework/dtypes.py:521: FutureWarning: Passing (type, 1) or '1type' as a synonym of type is deprecated; in a future version of numpy, it will be understood as (type, (1,)) / '(1,)type'.\n",
      "  _np_qint16 = np.dtype([(\"qint16\", np.int16, 1)])\n",
      "/home/jmoreno/anaconda3/envs/zagrebdemo/lib/python3.6/site-packages/tensorflow/python/framework/dtypes.py:522: FutureWarning: Passing (type, 1) or '1type' as a synonym of type is deprecated; in a future version of numpy, it will be understood as (type, (1,)) / '(1,)type'.\n",
      "  _np_quint16 = np.dtype([(\"quint16\", np.uint16, 1)])\n",
      "/home/jmoreno/anaconda3/envs/zagrebdemo/lib/python3.6/site-packages/tensorflow/python/framework/dtypes.py:523: FutureWarning: Passing (type, 1) or '1type' as a synonym of type is deprecated; in a future version of numpy, it will be understood as (type, (1,)) / '(1,)type'.\n",
      "  _np_qint32 = np.dtype([(\"qint32\", np.int32, 1)])\n",
      "/home/jmoreno/anaconda3/envs/zagrebdemo/lib/python3.6/site-packages/tensorflow/python/framework/dtypes.py:528: FutureWarning: Passing (type, 1) or '1type' as a synonym of type is deprecated; in a future version of numpy, it will be understood as (type, (1,)) / '(1,)type'.\n",
      "  np_resource = np.dtype([(\"resource\", np.ubyte, 1)])\n"
     ]
    }
   ],
   "source": [
    "#import nltk\n",
    "import sys\n",
    "import torch\n",
    "from util.preprocessing import addCharInformation, createMatrices, addCasingInformation, readCoNLL\n",
    "from neuralnets.BERTBiLSTM import BERTBiLSTM\n",
    "from neuralnets.BERTWordEmbeddings import BERTWordEmbeddings\n",
    "from IPython.core.display import display, HTML\n",
    "from ipywidgets import interact, widgets, Layout"
   ]
  },
  {
   "cell_type": "code",
   "execution_count": 2,
   "metadata": {},
   "outputs": [],
   "source": [
    "def displayEntitiesInHTML(sentences,tags,debug=False):\n",
    "    parts = ['<html>'+\n",
    "    '<head>'+\n",
    "    '<style>'+\n",
    "    'hr {border-width: 10px;}'+\n",
    "    '.button {background-color: #FFFFFF;border: none;color: white;padding: 10px;text-align: center;text-decoration: none;display: inline-block;font-size: 16px;margin: 4px 2px;cursor: pointer;border-radius: 8px;}'+\n",
    "    '.ORG {background-color: #4CAF50;}'+\n",
    "    '.PER {background-color: #008CBA;}'+\n",
    "    '.LOC {background-color: #f44336;}'+\n",
    "    '.MISC {background-color: #e7e7e7; color: black;}'+\n",
    "    '.ISC {background-color: #e7e7e7; color: black;}'+\n",
    "    '.EVT {background-color: #555555;}'+\n",
    "    '.PRO {background-color: #555555;}'+\n",
    "    '.O {color: black;}'+\n",
    "    '</style>'+\n",
    "    '</head>'+\n",
    "    '<body>',\n",
    "    '</body>'+\n",
    "    '</html>']\n",
    "\n",
    "    # :: Output to stdout ::\n",
    "    lines = ''\n",
    "    modelName = list(tags.keys())[0]\n",
    "    for sentenceIdx in range(len(sentences)):\n",
    "        tokens = sentences[sentenceIdx]['tokens']\n",
    "        for tokenIdx in range(len(tokens)):\n",
    "            tokenTag = tags[modelName][sentenceIdx][tokenIdx]\n",
    "            tokenTagPrev = tags[modelName][sentenceIdx][tokenIdx-1] if tokenIdx > 0 else 'X'\n",
    "            tokenTagNext = tags[modelName][sentenceIdx][tokenIdx+1] if tokenIdx < len(tokens)-1 else 'X'\n",
    "            tokenTag = str(tokenTag[-4:]) if len(tokenTag)==6 else str(tokenTag[-3:]) if len(tokenTag)>3 else tokenTag \n",
    "            tokenTagPrev = str(tokenTagPrev[-3:]) if len(tokenTagPrev)>3 else tokenTagPrev \n",
    "            tokenTagNext = str(tokenTagNext[-3:]) if len(tokenTagNext)>3 else tokenTagNext \n",
    "            if tokenTag == 'O':\n",
    "                lines += '<button class=\"button '+tokenTag+'\">'+tokens[tokenIdx]+'</button>'\n",
    "            elif tokenTag != tokenTagPrev and tokenTag != tokenTagNext:\n",
    "                lines += '<button class=\"button '+tokenTag+'\">'+tokens[tokenIdx]+'&nbsp;&nbsp;&nbsp;&nbsp;<small><b>'+tokenTag+'</b></small></button>'\n",
    "            elif tokenTag != tokenTagPrev and tokenTag == tokenTagNext:\n",
    "                lines += '<button class=\"button '+tokenTag+'\">'+tokens[tokenIdx]\n",
    "            elif tokenTag == tokenTagPrev and tokenTag == tokenTagNext:\n",
    "                lines += ' '+tokens[tokenIdx]\n",
    "            elif tokenTag == tokenTagPrev and tokenTag != tokenTagNext:\n",
    "                lines += ' '+tokens[tokenIdx]+'&nbsp;&nbsp;&nbsp;&nbsp;<small><b>'+tokenTag+'</b></small></button>'\n",
    "            lines += ''\n",
    "        lines += '<br><br><hr><br><br>'\n",
    "    if debug:\n",
    "        print(lines)\n",
    "    display(HTML(parts[0]+lines+parts[1]))"
   ]
  },
  {
   "cell_type": "code",
   "execution_count": 3,
   "metadata": {},
   "outputs": [],
   "source": [
    "#Which GPU to use for . -1 for CPU\n",
    "if torch.cuda.is_available():\n",
    "    bert_cuda_device = 0\n",
    "else:\n",
    "    bert_cuda_device = -1"
   ]
  },
  {
   "cell_type": "markdown",
   "metadata": {},
   "source": [
    "# Model load"
   ]
  },
  {
   "cell_type": "code",
   "execution_count": 4,
   "metadata": {},
   "outputs": [],
   "source": [
    "modelPath = \"models/conll2003_ner_0.9250_0.8854_13.h5\"\n"
   ]
  },
  {
   "cell_type": "code",
   "execution_count": 5,
   "metadata": {},
   "outputs": [],
   "source": [
    "# :: embeddings file\n",
    "embeddings_file = 'embeddings/komninos_english_embeddings.gz'"
   ]
  },
  {
   "cell_type": "code",
   "execution_count": 6,
   "metadata": {},
   "outputs": [
    {
     "name": "stdout",
     "output_type": "stream",
     "text": [
      "{'dropout': [0.5, 0.5], 'classifier': ['CRF'], 'LSTM-Size': [100, 100], 'customClassifier': {}, 'optimizer': 'adam', 'charEmbeddings': 'CNN', 'charEmbeddingsSize': 30, 'charFilterSize': 30, 'charFilterLength': 3, 'charLSTMSize': 25, 'maxCharLength': 25, 'useTaskIdentifier': False, 'clipvalue': 0, 'clipnorm': 1, 'earlyStopping': 5, 'miniBatchSize': 32, 'featureNames': ['casing', 'tokens_embeddings', 'bert_embeddings', 'characters'], 'addFeatureDimensions': 10, 'embeddingsConfig': {'embeddings_path': 'embeddings/komninos_english_embeddings.gz', 'bert_mode': 'average', 'bert_path': '/data6T/Datasets/BERT/cased_L-12_H-768_A-12/', 'bert_n_layers': 12, 'bert_cuda_device': -1}}\n"
     ]
    }
   ],
   "source": [
    "# :: Load the model ::\n",
    "lstmModel = BERTBiLSTM.loadModel(modelPath,embeddings_file)"
   ]
  },
  {
   "cell_type": "markdown",
   "metadata": {},
   "source": [
    "# Example 1"
   ]
  },
  {
   "cell_type": "code",
   "execution_count": 7,
   "metadata": {},
   "outputs": [
    {
     "name": "stdout",
     "output_type": "stream",
     "text": [
      "['Rockwell']\n",
      "['International']\n",
      "['Corp.']\n",
      "[\"'s\"]\n",
      "['Tulsa']\n",
      "['unit']\n",
      "['said']\n",
      "['it']\n",
      "['signed']\n",
      "['a']\n",
      "['tentative']\n",
      "['agreement']\n",
      "['extending']\n",
      "['its']\n",
      "['contract']\n",
      "['with']\n",
      "['Boeing']\n",
      "['Co.']\n",
      "['to']\n",
      "['provide']\n",
      "['structural']\n",
      "['parts']\n",
      "['for']\n",
      "['Boeing']\n",
      "[\"'s\"]\n",
      "['747']\n",
      "['jetliners']\n",
      "['.']\n",
      "['He']\n",
      "['reckons']\n",
      "['the']\n",
      "['current']\n",
      "['account']\n",
      "['deficit']\n",
      "['will']\n",
      "['narrow']\n",
      "['to']\n",
      "['only']\n",
      "['1.8']\n",
      "['billion']\n",
      "['in']\n",
      "['September']\n",
      "['.']\n",
      "['The']\n",
      "['group']\n",
      "[',']\n",
      "['crossing']\n",
      "['at']\n",
      "['Al']\n",
      "['Yarubiyah']\n",
      "[',']\n",
      "['Syria']\n",
      "[',']\n",
      "['was']\n",
      "['transferred']\n",
      "['to']\n",
      "['the']\n",
      "['U.N.']\n",
      "['refugee']\n",
      "['agency']\n",
      "[\"'s\"]\n",
      "['camp']\n",
      "['at']\n",
      "['El']\n",
      "['Hol']\n",
      "[',']\n",
      "['100']\n",
      "['kilometers']\n",
      "['(']\n",
      "['60']\n",
      "['miles']\n",
      "[')']\n",
      "['to']\n",
      "['the']\n",
      "['west']\n",
      "[',']\n",
      "['agency']\n",
      "['spokesman']\n",
      "['Peter']\n",
      "['Kessler']\n",
      "['said']\n",
      "['in']\n",
      "['Amman']\n",
      "['.']\n",
      " - Rockwell International Corp. 's Tulsa unit said it signed a tentative agreement extending its contract with Boeing Co. to provide structural parts for Boeing 's 747 jetliners .\n",
      " - He reckons the current account deficit will narrow to only 1.8 billion in September .\n",
      " - The group , crossing at Al Yarubiyah , Syria , was transferred to the U.N. refugee agency 's camp at El Hol , 100 kilometers ( 60 miles ) to the west , agency spokesman Peter Kessler said in Amman .\n"
     ]
    }
   ],
   "source": [
    "# :: Prepare the input ::\n",
    "sentences = readCoNLL(\"input.conll\", {0: \"tokens\"})\n",
    "print(\"\\n\".join([\" - \"+\" \".join(x['tokens']) for x in sentences]))\n",
    "addCharInformation(sentences)\n",
    "addCasingInformation(sentences)\n"
   ]
  },
  {
   "cell_type": "code",
   "execution_count": 8,
   "metadata": {},
   "outputs": [],
   "source": [
    "\n",
    "# :: Map casing and character information to integer indices ::\n",
    "dataMatrix = createMatrices(sentences, lstmModel.mappings, True)\n",
    "\n",
    "\n",
    "# :: Tag the input ::\n",
    "tags = lstmModel.tagSentences(dataMatrix)"
   ]
  },
  {
   "cell_type": "code",
   "execution_count": 9,
   "metadata": {},
   "outputs": [
    {
     "data": {
      "text/html": [
       "<html><head><style>hr {border-width: 10px;}.button {background-color: #FFFFFF;border: none;color: white;padding: 10px;text-align: center;text-decoration: none;display: inline-block;font-size: 16px;margin: 4px 2px;cursor: pointer;border-radius: 8px;}.ORG {background-color: #4CAF50;}.PER {background-color: #008CBA;}.LOC {background-color: #f44336;}.MISC {background-color: #e7e7e7; color: black;}.ISC {background-color: #e7e7e7; color: black;}.EVT {background-color: #555555;}.PRO {background-color: #555555;}.O {color: black;}</style></head><body><button class=\"button ORG\">Rockwell International Corp.&nbsp;&nbsp;&nbsp;&nbsp;<small><b>ORG</b></small></button><button class=\"button O\">'s</button><button class=\"button LOC\">Tulsa&nbsp;&nbsp;&nbsp;&nbsp;<small><b>LOC</b></small></button><button class=\"button O\">unit</button><button class=\"button O\">said</button><button class=\"button O\">it</button><button class=\"button O\">signed</button><button class=\"button O\">a</button><button class=\"button O\">tentative</button><button class=\"button O\">agreement</button><button class=\"button O\">extending</button><button class=\"button O\">its</button><button class=\"button O\">contract</button><button class=\"button O\">with</button><button class=\"button ORG\">Boeing Co.&nbsp;&nbsp;&nbsp;&nbsp;<small><b>ORG</b></small></button><button class=\"button O\">to</button><button class=\"button O\">provide</button><button class=\"button O\">structural</button><button class=\"button O\">parts</button><button class=\"button O\">for</button><button class=\"button ORG\">Boeing&nbsp;&nbsp;&nbsp;&nbsp;<small><b>ORG</b></small></button><button class=\"button O\">'s</button><button class=\"button O\">747</button><button class=\"button O\">jetliners</button><button class=\"button O\">.</button><br><br><hr><br><br><button class=\"button O\">He</button><button class=\"button O\">reckons</button><button class=\"button O\">the</button><button class=\"button O\">current</button><button class=\"button O\">account</button><button class=\"button O\">deficit</button><button class=\"button O\">will</button><button class=\"button O\">narrow</button><button class=\"button O\">to</button><button class=\"button O\">only</button><button class=\"button O\">1.8</button><button class=\"button O\">billion</button><button class=\"button O\">in</button><button class=\"button O\">September</button><button class=\"button O\">.</button><br><br><hr><br><br><button class=\"button O\">The</button><button class=\"button O\">group</button><button class=\"button O\">,</button><button class=\"button O\">crossing</button><button class=\"button O\">at</button><button class=\"button LOC\">Al Yarubiyah&nbsp;&nbsp;&nbsp;&nbsp;<small><b>LOC</b></small></button><button class=\"button O\">,</button><button class=\"button LOC\">Syria&nbsp;&nbsp;&nbsp;&nbsp;<small><b>LOC</b></small></button><button class=\"button O\">,</button><button class=\"button O\">was</button><button class=\"button O\">transferred</button><button class=\"button O\">to</button><button class=\"button O\">the</button><button class=\"button ORG\">U.N.&nbsp;&nbsp;&nbsp;&nbsp;<small><b>ORG</b></small></button><button class=\"button O\">refugee</button><button class=\"button O\">agency</button><button class=\"button O\">'s</button><button class=\"button O\">camp</button><button class=\"button O\">at</button><button class=\"button LOC\">El Hol&nbsp;&nbsp;&nbsp;&nbsp;<small><b>LOC</b></small></button><button class=\"button O\">,</button><button class=\"button O\">100</button><button class=\"button O\">kilometers</button><button class=\"button O\">(</button><button class=\"button O\">60</button><button class=\"button O\">miles</button><button class=\"button O\">)</button><button class=\"button O\">to</button><button class=\"button O\">the</button><button class=\"button O\">west</button><button class=\"button O\">,</button><button class=\"button O\">agency</button><button class=\"button O\">spokesman</button><button class=\"button PER\">Peter Kessler&nbsp;&nbsp;&nbsp;&nbsp;<small><b>PER</b></small></button><button class=\"button O\">said</button><button class=\"button O\">in</button><button class=\"button LOC\">Amman&nbsp;&nbsp;&nbsp;&nbsp;<small><b>LOC</b></small></button><button class=\"button O\">.</button><br><br><hr><br><br></body></html>"
      ],
      "text/plain": [
       "<IPython.core.display.HTML object>"
      ]
     },
     "metadata": {},
     "output_type": "display_data"
    }
   ],
   "source": [
    "displayEntitiesInHTML(sentences,tags)"
   ]
  },
  {
   "cell_type": "code",
   "execution_count": null,
   "metadata": {},
   "outputs": [],
   "source": []
  },
  {
   "cell_type": "markdown",
   "metadata": {},
   "source": [
    "# Example 2"
   ]
  },
  {
   "cell_type": "code",
   "execution_count": 10,
   "metadata": {},
   "outputs": [
    {
     "data": {
      "application/vnd.jupyter.widget-view+json": {
       "model_id": "fe0a64f9c71c460cab63bc6186bb944d",
       "version_major": 2,
       "version_minor": 0
      },
      "text/plain": [
       "Textarea(value='Hello World', description='String:', layout=Layout(height='200px', width='80%'), placeholder='…"
      ]
     },
     "metadata": {},
     "output_type": "display_data"
    }
   ],
   "source": [
    "#https://www.theguardian.com/politics/2019/dec/10/final-scramble-for-votes-in-most-important-election-in-a-generation\n",
    "text = widgets.Textarea(\n",
    "    value='Hello World',\n",
    "    placeholder='Type something',\n",
    "    description='String:',\n",
    "    disabled=False,\n",
    "    layout=Layout(width='80%', height='200px')\n",
    ")\n",
    "display(text)\n"
   ]
  },
  {
   "cell_type": "code",
   "execution_count": 11,
   "metadata": {},
   "outputs": [
    {
     "name": "stdout",
     "output_type": "stream",
     "text": [
      "Boris Johnson and Jeremy Corbyn are to embark on a final frantic 24 hours of campaigning as both teams insist the election remains closely fought and that polls giving the Conservatives a lead could be wrong.\n",
      "\n",
      "Both Labour and the Conservatives have branded Thursday ’s vote the “most important in a generation” as the two sides have vastly different plans for Brexit and spending on public services.\n",
      "\n",
      "The prime minister was set to crisscross the country from Yorkshire to the Midlands, Wales and London on Wednesday , sending out his core message that the Conservatives need only another 12 seats to win a majority.\n"
     ]
    }
   ],
   "source": [
    "print(text.value)"
   ]
  },
  {
   "cell_type": "code",
   "execution_count": 12,
   "metadata": {},
   "outputs": [],
   "source": [
    "sentences = [{'tokens':x.split()} for x in text.value.split(\"\\n\") if len(x)>0]\n",
    "addCharInformation(sentences)\n",
    "addCasingInformation(sentences)\n",
    "\n",
    "# :: Map casing and character information to integer indices ::\n",
    "dataMatrix = createMatrices(sentences, lstmModel.mappings, True)\n",
    "\n",
    "\n",
    "# :: Tag the input ::\n",
    "tags = lstmModel.tagSentences(dataMatrix)"
   ]
  },
  {
   "cell_type": "code",
   "execution_count": 13,
   "metadata": {},
   "outputs": [
    {
     "data": {
      "text/html": [
       "<html><head><style>hr {border-width: 10px;}.button {background-color: #FFFFFF;border: none;color: white;padding: 10px;text-align: center;text-decoration: none;display: inline-block;font-size: 16px;margin: 4px 2px;cursor: pointer;border-radius: 8px;}.ORG {background-color: #4CAF50;}.PER {background-color: #008CBA;}.LOC {background-color: #f44336;}.MISC {background-color: #e7e7e7; color: black;}.ISC {background-color: #e7e7e7; color: black;}.EVT {background-color: #555555;}.PRO {background-color: #555555;}.O {color: black;}</style></head><body><button class=\"button PER\">Boris Johnson&nbsp;&nbsp;&nbsp;&nbsp;<small><b>PER</b></small></button><button class=\"button O\">and</button><button class=\"button PER\">Jeremy Corbyn&nbsp;&nbsp;&nbsp;&nbsp;<small><b>PER</b></small></button><button class=\"button O\">are</button><button class=\"button O\">to</button><button class=\"button O\">embark</button><button class=\"button O\">on</button><button class=\"button O\">a</button><button class=\"button O\">final</button><button class=\"button O\">frantic</button><button class=\"button O\">24</button><button class=\"button O\">hours</button><button class=\"button O\">of</button><button class=\"button O\">campaigning</button><button class=\"button O\">as</button><button class=\"button O\">both</button><button class=\"button O\">teams</button><button class=\"button O\">insist</button><button class=\"button O\">the</button><button class=\"button O\">election</button><button class=\"button O\">remains</button><button class=\"button O\">closely</button><button class=\"button O\">fought</button><button class=\"button O\">and</button><button class=\"button O\">that</button><button class=\"button O\">polls</button><button class=\"button O\">giving</button><button class=\"button O\">the</button><button class=\"button ORG\">Conservatives&nbsp;&nbsp;&nbsp;&nbsp;<small><b>ORG</b></small></button><button class=\"button O\">a</button><button class=\"button O\">lead</button><button class=\"button O\">could</button><button class=\"button O\">be</button><button class=\"button O\">wrong.</button><br><br><hr><br><br><button class=\"button ORG\">Both Labour&nbsp;&nbsp;&nbsp;&nbsp;<small><b>ORG</b></small></button><button class=\"button O\">and</button><button class=\"button O\">the</button><button class=\"button MISC\">Conservatives&nbsp;&nbsp;&nbsp;&nbsp;<small><b>MISC</b></small></button><button class=\"button O\">have</button><button class=\"button O\">branded</button><button class=\"button O\">Thursday</button><button class=\"button O\">’s</button><button class=\"button O\">vote</button><button class=\"button O\">the</button><button class=\"button O\">“most</button><button class=\"button O\">important</button><button class=\"button O\">in</button><button class=\"button O\">a</button><button class=\"button O\">generation”</button><button class=\"button O\">as</button><button class=\"button O\">the</button><button class=\"button O\">two</button><button class=\"button O\">sides</button><button class=\"button O\">have</button><button class=\"button O\">vastly</button><button class=\"button O\">different</button><button class=\"button O\">plans</button><button class=\"button O\">for</button><button class=\"button ORG\">Brexit&nbsp;&nbsp;&nbsp;&nbsp;<small><b>ORG</b></small></button><button class=\"button O\">and</button><button class=\"button O\">spending</button><button class=\"button O\">on</button><button class=\"button O\">public</button><button class=\"button O\">services.</button><br><br><hr><br><br><button class=\"button O\">The</button><button class=\"button O\">prime</button><button class=\"button O\">minister</button><button class=\"button O\">was</button><button class=\"button O\">set</button><button class=\"button O\">to</button><button class=\"button O\">crisscross</button><button class=\"button O\">the</button><button class=\"button O\">country</button><button class=\"button O\">from</button><button class=\"button LOC\">Yorkshire&nbsp;&nbsp;&nbsp;&nbsp;<small><b>LOC</b></small></button><button class=\"button O\">to</button><button class=\"button O\">the</button><button class=\"button LOC\">Midlands, Wales&nbsp;&nbsp;&nbsp;&nbsp;<small><b>LOC</b></small></button><button class=\"button O\">and</button><button class=\"button LOC\">London&nbsp;&nbsp;&nbsp;&nbsp;<small><b>LOC</b></small></button><button class=\"button O\">on</button><button class=\"button O\">Wednesday</button><button class=\"button O\">,</button><button class=\"button O\">sending</button><button class=\"button O\">out</button><button class=\"button O\">his</button><button class=\"button O\">core</button><button class=\"button O\">message</button><button class=\"button O\">that</button><button class=\"button O\">the</button><button class=\"button MISC\">Conservatives&nbsp;&nbsp;&nbsp;&nbsp;<small><b>MISC</b></small></button><button class=\"button O\">need</button><button class=\"button O\">only</button><button class=\"button O\">another</button><button class=\"button O\">12</button><button class=\"button O\">seats</button><button class=\"button O\">to</button><button class=\"button O\">win</button><button class=\"button O\">a</button><button class=\"button O\">majority.</button><br><br><hr><br><br></body></html>"
      ],
      "text/plain": [
       "<IPython.core.display.HTML object>"
      ]
     },
     "metadata": {},
     "output_type": "display_data"
    }
   ],
   "source": [
    "displayEntitiesInHTML(sentences,tags)"
   ]
  },
  {
   "cell_type": "code",
   "execution_count": null,
   "metadata": {},
   "outputs": [],
   "source": []
  },
  {
   "cell_type": "markdown",
   "metadata": {},
   "source": [
    "# Example 3 - Croatian"
   ]
  },
  {
   "cell_type": "code",
   "execution_count": 14,
   "metadata": {},
   "outputs": [
    {
     "name": "stdout",
     "output_type": "stream",
     "text": [
      "{'dropout': [0.5, 0.5], 'classifier': ['CRF'], 'LSTM-Size': [100, 100], 'customClassifier': {}, 'optimizer': 'adam', 'charEmbeddings': 'CNN', 'charEmbeddingsSize': 30, 'charFilterSize': 30, 'charFilterLength': 3, 'charLSTMSize': 25, 'maxCharLength': 25, 'useTaskIdentifier': False, 'clipvalue': 0, 'clipnorm': 1, 'earlyStopping': 5, 'miniBatchSize': 32, 'featureNames': ['casing', 'tokens_embeddings', 'bert_embeddings', 'characters'], 'addFeatureDimensions': 10, 'embeddingsConfig': {'embeddings_path': 'embeddings/fastText157/cc.hr.300.vec.gz.top1.gz', 'bert_mode': 'average', 'bert_path': '/users/iris/jmoreno/Projets/BERTexp/multi_cased_L-12_H-768_A-12/', 'bert_n_layers': 2, 'bert_cuda_device': -1}}\n"
     ]
    }
   ],
   "source": [
    "modelPath = \"models/zagreb/282NER_hr_0.8636_0.8619_24.h5\"\n",
    "\n",
    "# :: embeddings file\n",
    "embeddings_file = 'embeddings/fastText157/cc.hr.300.vec.gz.top1.gz'\n",
    "\n",
    "# :: Load the model ::\n",
    "lstmModel = BERTBiLSTM.loadModel(modelPath,embeddings_file,use_fastext = True)"
   ]
  },
  {
   "cell_type": "code",
   "execution_count": 20,
   "metadata": {},
   "outputs": [
    {
     "data": {
      "application/vnd.jupyter.widget-view+json": {
       "model_id": "fe0a64f9c71c460cab63bc6186bb944d",
       "version_major": 2,
       "version_minor": 0
      },
      "text/plain": [
       "Textarea(value='Svojim današnjim mišljenjem nezavisni odvjetnik Priit Pikamäe Sudu predlaže da se proglasi nen…"
      ]
     },
     "metadata": {},
     "output_type": "display_data"
    }
   ],
   "source": [
    "#https://euractiv.jutarnji.hr/aktualno/neovisni-odvjetnik-zakljucio-da-sud-eu-nije-nadlezan-za-slovensku-tuzbu-protiv-hrvatske/9731425/\n",
    "\n",
    "display(text)\n"
   ]
  },
  {
   "cell_type": "code",
   "execution_count": 16,
   "metadata": {},
   "outputs": [
    {
     "name": "stdout",
     "output_type": "stream",
     "text": [
      "Svojim današnjim mišljenjem nezavisni odvjetnik Priit Pikamäe Sudu predlaže da se proglasi nenadležnim za odlučivanje o tužbi koju je podnijela Slovenija.\n",
      "\n",
      "Situacija je sada jasnija i veliki su izgledi da se Sud EU proglasi nenadležnim za tužbu Republike Slovenije protiv Hrvatske zbog neprovedbe arbitražnog postupka. Dosadašnja praksa pokazuje da u predmetima koji se vode pred Velikim vijećem Suda EU-a, a to je slučaj i s ovom slovenskom tužbom, Sud slijedi mišljenje nezavisnog odvjetnika u oko polovici slučajeva.\n"
     ]
    }
   ],
   "source": [
    "print(text.value)"
   ]
  },
  {
   "cell_type": "code",
   "execution_count": 17,
   "metadata": {},
   "outputs": [
    {
     "name": "stderr",
     "output_type": "stream",
     "text": [
      "\n"
     ]
    }
   ],
   "source": [
    "sentences = [{'tokens':x.split()} for x in text.value.split(\"\\n\") if len(x)>0]\n",
    "addCharInformation(sentences)\n",
    "addCasingInformation(sentences)\n",
    "\n",
    "# :: Map casing and character information to integer indices ::\n",
    "dataMatrix = createMatrices(sentences, lstmModel.mappings, True)\n",
    "\n",
    "\n",
    "# :: Tag the input ::\n",
    "tags = lstmModel.tagSentences(dataMatrix)"
   ]
  },
  {
   "cell_type": "code",
   "execution_count": 18,
   "metadata": {},
   "outputs": [
    {
     "data": {
      "text/html": [
       "<html><head><style>hr {border-width: 10px;}.button {background-color: #FFFFFF;border: none;color: white;padding: 10px;text-align: center;text-decoration: none;display: inline-block;font-size: 16px;margin: 4px 2px;cursor: pointer;border-radius: 8px;}.ORG {background-color: #4CAF50;}.PER {background-color: #008CBA;}.LOC {background-color: #f44336;}.MISC {background-color: #e7e7e7; color: black;}.ISC {background-color: #e7e7e7; color: black;}.EVT {background-color: #555555;}.PRO {background-color: #555555;}.O {color: black;}</style></head><body><button class=\"button O\">Svojim</button><button class=\"button O\">današnjim</button><button class=\"button O\">mišljenjem</button><button class=\"button O\">nezavisni</button><button class=\"button O\">odvjetnik</button><button class=\"button PER\">Priit Pikamäe Sudu&nbsp;&nbsp;&nbsp;&nbsp;<small><b>PER</b></small></button><button class=\"button O\">predlaže</button><button class=\"button O\">da</button><button class=\"button O\">se</button><button class=\"button O\">proglasi</button><button class=\"button O\">nenadležnim</button><button class=\"button O\">za</button><button class=\"button O\">odlučivanje</button><button class=\"button O\">o</button><button class=\"button O\">tužbi</button><button class=\"button O\">koju</button><button class=\"button O\">je</button><button class=\"button O\">podnijela</button><button class=\"button LOC\">Slovenija.&nbsp;&nbsp;&nbsp;&nbsp;<small><b>LOC</b></small></button><br><br><hr><br><br><button class=\"button O\">Situacija</button><button class=\"button O\">je</button><button class=\"button O\">sada</button><button class=\"button O\">jasnija</button><button class=\"button O\">i</button><button class=\"button O\">veliki</button><button class=\"button O\">su</button><button class=\"button O\">izgledi</button><button class=\"button O\">da</button><button class=\"button O\">se</button><button class=\"button ORG\">Sud EU&nbsp;&nbsp;&nbsp;&nbsp;<small><b>ORG</b></small></button><button class=\"button O\">proglasi</button><button class=\"button O\">nenadležnim</button><button class=\"button O\">za</button><button class=\"button O\">tužbu</button><button class=\"button LOC\">Republike Slovenije&nbsp;&nbsp;&nbsp;&nbsp;<small><b>LOC</b></small></button><button class=\"button O\">protiv</button><button class=\"button O\">Hrvatske</button><button class=\"button O\">zbog</button><button class=\"button O\">neprovedbe</button><button class=\"button O\">arbitražnog</button><button class=\"button O\">postupka.</button><button class=\"button O\">Dosadašnja</button><button class=\"button O\">praksa</button><button class=\"button O\">pokazuje</button><button class=\"button O\">da</button><button class=\"button O\">u</button><button class=\"button O\">predmetima</button><button class=\"button O\">koji</button><button class=\"button O\">se</button><button class=\"button O\">vode</button><button class=\"button O\">pred</button><button class=\"button O\">Velikim</button><button class=\"button O\">vijećem</button><button class=\"button PER\">Suda EU-a,&nbsp;&nbsp;&nbsp;&nbsp;<small><b>PER</b></small></button><button class=\"button O\">a</button><button class=\"button O\">to</button><button class=\"button O\">je</button><button class=\"button O\">slučaj</button><button class=\"button O\">i</button><button class=\"button O\">s</button><button class=\"button O\">ovom</button><button class=\"button O\">slovenskom</button><button class=\"button O\">tužbom,</button><button class=\"button ORG\">Sud&nbsp;&nbsp;&nbsp;&nbsp;<small><b>ORG</b></small></button><button class=\"button O\">slijedi</button><button class=\"button O\">mišljenje</button><button class=\"button O\">nezavisnog</button><button class=\"button O\">odvjetnika</button><button class=\"button O\">u</button><button class=\"button O\">oko</button><button class=\"button O\">polovici</button><button class=\"button O\">slučajeva.</button><br><br><hr><br><br></body></html>"
      ],
      "text/plain": [
       "<IPython.core.display.HTML object>"
      ]
     },
     "metadata": {},
     "output_type": "display_data"
    }
   ],
   "source": [
    "displayEntitiesInHTML(sentences,tags)"
   ]
  },
  {
   "cell_type": "code",
   "execution_count": 19,
   "metadata": {},
   "outputs": [],
   "source": [
    "#In his opinion today, independent lawyer Priit Pikamäe proposes that the Court declare itself incompetent to \n",
    "#decide the action brought by Slovenia.\n",
    "\n",
    "#The situation is now clearer and there is a strong chance that the EU Court will declare itself not competent \n",
    "#to sue the Republic of Slovenia against Croatia for failure to conduct arbitration proceedings. \n",
    "#The practice so far shows that in the cases before the Grand Chamber of the EU Court, which is the case with \n",
    "#this Slovenian lawsuit, the Court follows the opinion of an independent lawyer in about half of the cases.\n",
    "\n"
   ]
  },
  {
   "cell_type": "code",
   "execution_count": null,
   "metadata": {},
   "outputs": [],
   "source": []
  }
 ],
 "metadata": {
  "kernelspec": {
   "display_name": "Python 3",
   "language": "python",
   "name": "python3"
  },
  "language_info": {
   "codemirror_mode": {
    "name": "ipython",
    "version": 3
   },
   "file_extension": ".py",
   "mimetype": "text/x-python",
   "name": "python",
   "nbconvert_exporter": "python",
   "pygments_lexer": "ipython3",
   "version": "3.6.9"
  }
 },
 "nbformat": 4,
 "nbformat_minor": 4
}
